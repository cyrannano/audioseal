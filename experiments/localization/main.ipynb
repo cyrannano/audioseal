{
 "cells": [
  {
   "cell_type": "markdown",
   "metadata": {},
   "source": [
    "# Analyzing AudioSeal’s Capabilities: Localization of Synthetic Speech Segments\n",
    "---\n",
    "Evaluate the accuracy and precision of the AudioSeal system in localizing synthetic speech segments within an audio stream."
   ]
  },
  {
   "cell_type": "code",
   "execution_count": 1,
   "metadata": {},
   "outputs": [],
   "source": [
    "import os\n",
    "import torch\n",
    "import torchaudio\n",
    "import numpy as np\n",
    "import typing as tp\n",
    "from typing import List, Tuple\n",
    "from audioseal import AudioSeal\n",
    "import random\n",
    "from tqdm import tqdm"
   ]
  },
  {
   "cell_type": "markdown",
   "metadata": {},
   "source": [
    "## Preparing the Model for generating and detecting synthetic speech segments"
   ]
  },
  {
   "cell_type": "code",
   "execution_count": 2,
   "metadata": {},
   "outputs": [
    {
     "name": "stdout",
     "output_type": "stream",
     "text": [
      "Using device: cuda\n",
      "Secret message: tensor([[1, 0, 0, 1, 1, 1, 0, 1, 0, 1, 0, 0, 1, 1, 0, 1]], device='cuda:0',\n",
      "       dtype=torch.int32)\n"
     ]
    }
   ],
   "source": [
    "device = \"cuda\" if torch.cuda.is_available() else \"cpu\"\n",
    "print(f\"Using device: {device}\")\n",
    "\n",
    "secret_message = torch.randint(0, 2, (1, 16), dtype=torch.int32)\n",
    "secret_message = secret_message.to(device)\n",
    "print(f\"Secret message: {secret_message}\")\n",
    "\n",
    "\n",
    "model = AudioSeal.load_generator(\"audioseal_wm_16bits\")\n",
    "detector = AudioSeal.load_detector(\"audioseal_detector_16bits\")\n",
    "\n",
    "\n",
    "model = model.to(device)\n",
    "detector = detector.to(device)\n",
    "\n",
    "def generate_watermark_audio(\n",
    "    tensor: torch.Tensor,\n",
    "    sample_rate: int\n",
    ") -> tp.Optional[torch.Tensor]:\n",
    "    try:\n",
    "        global model, device, secret_message\n",
    "        audios = tensor.unsqueeze(0).to(device)\n",
    "        watermarked_audio = model(audios, sample_rate=sample_rate, message=secret_message.to(device), alpha=1)\n",
    "        del audios\n",
    "        return watermarked_audio\n",
    "\n",
    "    \n",
    "    except Exception as e:\n",
    "        print(f\"Error while watermarking audio: {e}\")\n",
    "        return None\n",
    "\n",
    "# Function to get the confidence score that an audio tensor was watermarked by Audioseal\n",
    "# provided by the Audioseal team\n",
    "def detect_watermark_audio(\n",
    "    tensor: torch.Tensor,\n",
    "    sample_rate: int,\n",
    "    message_threshold: float = 0.50\n",
    ") -> tp.Optional[float]:\n",
    "    try:\n",
    "        global detector, device\n",
    "        # In our analysis we are not concerned with the hidden/embedded message as of now\n",
    "        result, _ = detector.detect_watermark(tensor, sample_rate=sample_rate, message_threshold=message_threshold)\n",
    "        return float(result)\n",
    "    except Exception as e:\n",
    "        print(f\"Error while detecting watermark: {e}\")\n",
    "        return None"
   ]
  },
  {
   "cell_type": "code",
   "execution_count": 3,
   "metadata": {},
   "outputs": [],
   "source": [
    "CREMA_D_PATH = '../../crema-d'\n",
    "SAMPLE_SIZE = 100\n",
    "OUTPUT_DIR = './localized_dataset'"
   ]
  },
  {
   "cell_type": "markdown",
   "metadata": {},
   "source": [
    "## Preparing the dataset"
   ]
  },
  {
   "cell_type": "code",
   "execution_count": 4,
   "metadata": {},
   "outputs": [],
   "source": [
    "os.makedirs(OUTPUT_DIR, exist_ok=True)\n",
    "\n",
    "def load_audio_files(directory: str) -> List[Tuple[str, int]]:\n",
    "    audio_files = []\n",
    "    for filename in random.sample(os.listdir(directory), SAMPLE_SIZE):\n",
    "        if filename.endswith('.wav'):\n",
    "            filepath = os.path.join(directory, filename)\n",
    "            sample_rate = torchaudio.info(filepath).sample_rate\n",
    "            audio_files.append((filepath, sample_rate))\n",
    "    return audio_files\n",
    "\n",
    "def create_mixed_audio(original: torch.Tensor, watermarked: torch.Tensor, ratio: float) -> torch.Tensor:\n",
    "    assert 0.0 <= ratio <= 1.0, \"Ratio must be between 0 and 1\"\n",
    "    \n",
    "    split_factor = 100\n",
    "    # divide original and watermarked audio into split_factor equal parts\n",
    "    original_parts = torch.chunk(original, split_factor, dim=1)\n",
    "    watermarked_parts = torch.chunk(watermarked.view(1,-1), split_factor, dim=1)\n",
    "\n",
    "    # mix the audio parts based on the ratio\n",
    "    mixed_parts = []\n",
    "    watermark_sequence = []\n",
    "    for i in range(split_factor):\n",
    "        take_watermarked = random.random() < ratio\n",
    "        if take_watermarked:\n",
    "            mixed_parts.append(watermarked_parts[i])\n",
    "            watermark_sequence.extend([1] * watermarked_parts[i].size(1))\n",
    "        else:\n",
    "            mixed_parts.append(original_parts[i])\n",
    "            watermark_sequence.extend([0] * original_parts[i].size(1))\n",
    "    \n",
    "    mixed_audio = torch.cat(mixed_parts, dim=1)\n",
    "    return mixed_audio, watermark_sequence\n",
    "\n",
    "def process_audio_file(filepath: str, sample_rate: int, ratios: List[float], output_dir: str) -> None:\n",
    "    waveform, _ = torchaudio.load(filepath)\n",
    "    waveform = waveform.to(device)\n",
    "\n",
    "    watermarked_waveform = generate_watermark_audio(waveform, sample_rate)\n",
    "    if watermarked_waveform is None:\n",
    "        return\n",
    "\n",
    "    watermarked_waveform = watermarked_waveform.to(device)\n",
    "\n",
    "    for ratio in ratios:\n",
    "        mixed_audio, watermark_sequence = create_mixed_audio(waveform, watermarked_waveform, ratio)\n",
    "\n",
    "        # Convert mixed audio to int16 before saving\n",
    "        mixed_audio_int16 = (mixed_audio * 32767).clamp(-32768, 32767).short()\n",
    "\n",
    "        # Save the mixed audio and watermark sequence to files\n",
    "        output_filepath = os.path.join(output_dir, f\"{os.path.splitext(os.path.basename(filepath))[0]}_ratio_{ratio}.wav\")\n",
    "        torchaudio.save(output_filepath, mixed_audio_int16.cpu().view(1,-1), sample_rate)\n",
    "\n",
    "        watermark_filepath = os.path.join(output_dir, f\"{os.path.splitext(os.path.basename(filepath))[0]}_ratio_{ratio}_watermark.npy\")\n",
    "        np.save(watermark_filepath, watermark_sequence)\n",
    "\n",
    "    # Release GPU memory\n",
    "    del waveform\n",
    "    del watermarked_waveform\n",
    "    torch.cuda.empty_cache()\n",
    "\n",
    "def generate_dataset(audio_files: List[Tuple[str, int]], output_dir: str) -> None:\n",
    "    ratios = [0.0, 0.01, 0.1, 0.25, 0.5, 0.75, 1.0]\n",
    "\n",
    "    for filepath, sample_rate in tqdm(audio_files):\n",
    "        process_audio_file(filepath, sample_rate, ratios, output_dir)"
   ]
  },
  {
   "cell_type": "code",
   "execution_count": 7,
   "metadata": {},
   "outputs": [
    {
     "name": "stderr",
     "output_type": "stream",
     "text": [
      "100%|██████████| 100/100 [00:07<00:00, 13.15it/s]\n"
     ]
    }
   ],
   "source": [
    "\n",
    "audio_files = load_audio_files(CREMA_D_PATH)\n",
    "generate_dataset(audio_files, OUTPUT_DIR)"
   ]
  },
  {
   "cell_type": "markdown",
   "metadata": {},
   "source": [
    "## Testing the localization capabilities of the AudioSeal system"
   ]
  },
  {
   "cell_type": "code",
   "execution_count": 16,
   "metadata": {},
   "outputs": [],
   "source": [
    "# create a dictionary to store the file paths and the corresponding watermark sequences for each ratio\n",
    "watermark_dict = {}\n",
    "for filename in os.listdir(OUTPUT_DIR):\n",
    "    if filename.endswith('.npy'):\n",
    "        watermark_sequence = np.load(os.path.join(OUTPUT_DIR, filename))\n",
    "        audio_filename = filename.split('_ratio')[0]\n",
    "        if audio_filename not in watermark_dict:\n",
    "            watermark_dict[audio_filename] = {}\n",
    "        ratio = float(filename.split('_ratio')[1].split('_')[1])\n",
    "        watermark_dict[audio_filename][ratio] = {}"
   ]
  },
  {
   "cell_type": "code",
   "execution_count": 72,
   "metadata": {},
   "outputs": [
    {
     "name": "stderr",
     "output_type": "stream",
     "text": [
      "  0%|          | 0/100 [00:00<?, ?it/s]C:\\Users\\drwho\\AppData\\Local\\Temp\\ipykernel_34600\\119487318.py:16: RuntimeWarning: invalid value encountered in scalar divide\n",
      "  recall = np.sum(np.logical_and(watermark_sequence == 1, pred_prob_binary == 1)) / np.sum(watermark_sequence)\n",
      "100%|██████████| 100/100 [00:13<00:00,  7.44it/s]\n"
     ]
    }
   ],
   "source": [
    "for file in tqdm(watermark_dict):\n",
    "    for ratio in watermark_dict[file]:\n",
    "        watermark_filepath = os.path.join(OUTPUT_DIR, f\"{file}_ratio_{ratio}_watermark.npy\")\n",
    "        watermark_sequence = np.load(watermark_filepath)\n",
    "        \n",
    "        # load the corresponding audio file\n",
    "        audio_filepath = os.path.join(OUTPUT_DIR, f\"{file}_ratio_{ratio}.wav\")\n",
    "        audio, sr = torchaudio.load(audio_filepath)\n",
    "        pred_prob, message_prob = detector(audio.unsqueeze(0).to(device), sample_rate=sr)\n",
    "\n",
    "        \n",
    "        pred_prob_binary = np.where(pred_prob.cpu() > 0.5, 1, 0)\n",
    "\n",
    "\n",
    "        precision = np.sum(np.logical_and(watermark_sequence == 1, pred_prob_binary == 1)) / np.sum(pred_prob_binary)\n",
    "        recall = np.sum(np.logical_and(watermark_sequence == 1, pred_prob_binary == 1)) / np.sum(watermark_sequence)\n",
    "        f1_score = 2 * (precision * recall) / (precision + recall)\n",
    "\n",
    "        watermark_dict[file][ratio] = {\n",
    "            'watermark_sequence': watermark_sequence,\n",
    "            'pred_prob_binary': pred_prob_binary,\n",
    "            'precision': precision,\n",
    "            'recall': recall,\n",
    "            'f1_score': f1_score\n",
    "        }"
   ]
  },
  {
   "cell_type": "code",
   "execution_count": 74,
   "metadata": {},
   "outputs": [
    {
     "data": {
      "image/png": "[encoded data removed]",
      "text/plain": [
       "<Figure size 640x480 with 1 Axes>"
      ]
     },
     "metadata": {},
     "output_type": "display_data"
    }
   ],
   "source": [
    "# plot the aggregated precision, recall and f1 score\n",
    "\n",
    "import matplotlib.pyplot as plt\n",
    "\n",
    "ratios = [0.0, 0.01, 0.1, 0.25, 0.5, 0.75, 1.0]\n",
    "precision = []\n",
    "recall = []\n",
    "f1_score = []\n",
    "\n",
    "for ratio in ratios:\n",
    "    precision_ratio = []\n",
    "    recall_ratio = []\n",
    "    f1_score_ratio = []\n",
    "    for file in watermark_dict:\n",
    "        precision_ratio.append(watermark_dict[file][ratio]['precision'])\n",
    "        recall_ratio.append(watermark_dict[file][ratio]['recall'])\n",
    "        f1_score_ratio.append(watermark_dict[file][ratio]['f1_score'])\n",
    "    precision.append(np.mean(precision_ratio))\n",
    "    recall.append(np.mean(recall_ratio))\n",
    "    f1_score.append(np.mean(f1_score_ratio))\n",
    "\n",
    "plt.plot(ratios, precision, label='Precision')\n",
    "plt.plot(ratios, recall, label='Recall')\n",
    "plt.plot(ratios, f1_score, label='F1 Score')\n",
    "plt.xlabel('Ratio')\n",
    "plt.ylabel('Metric')\n",
    "plt.title('Precision, Recall and F1 Score vs Ratio')\n",
    "plt.legend()\n",
    "plt.show()"
   ]
  }
 ],
 "metadata": {
  "kernelspec": {
   "display_name": ".venv",
   "language": "python",
   "name": "python3"
  },
  "language_info": {
   "codemirror_mode": {
    "name": "ipython",
    "version": 3
   },
   "file_extension": ".py",
   "mimetype": "text/x-python",
   "name": "python",
   "nbconvert_exporter": "python",
   "pygments_lexer": "ipython3",
   "version": "3.11.4"
  }
 },
 "nbformat": 4,
 "nbformat_minor": 2
}
